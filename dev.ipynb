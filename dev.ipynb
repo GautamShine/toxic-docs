{
 "cells": [
  {
   "cell_type": "code",
   "execution_count": null,
   "metadata": {
    "collapsed": false
   },
   "outputs": [],
   "source": [
    "%load_ext autoreload\n",
    "%autoreload 2\n",
    "from tox import *"
   ]
  },
  {
   "cell_type": "code",
   "execution_count": null,
   "metadata": {
    "collapsed": false
   },
   "outputs": [],
   "source": [
    "bson_file = 'documents.bson'\n",
    "label_key = 'document_type'\n",
    "text_key = 'text'\n",
    "\n",
    "# Process the raw data\n",
    "dp = DataProcessor()\n",
    "docs, y_all, counts = dp.load_bson(bson_file, label_key)\n",
    "t0 = time.time()\n",
    "vectorizer, X_all, feat_names = dp.vectorize(docs, text_key, min_df=2, max_ngram=2)\n",
    "vec_time = time.time() - t0\n",
    "\n",
    "y_train, X_train, y_test, X_test = dp.split_data(y_all, X_all, split=0.7, seed=0)\n",
    "me = ModelEvaluator()\n",
    "\n",
    "print(vec_time)\n",
    "print(X_all.shape)\n",
    "print(dp.label_dict)"
   ]
  },
  {
   "cell_type": "code",
   "execution_count": null,
   "metadata": {
    "collapsed": false
   },
   "outputs": [],
   "source": [
    "# Multinomial Naive Bayes\n",
    "MNB = MultinomialNB()\n",
    "MNB_train_acc, MNB_train_time = me.train(MNB, y_train, X_train)\n",
    "MNB_test_acc, MNB_test_prec, MNB_test_rec, MNB_test_time = me.test(MNB, y_test, X_test)\n",
    "print('Time: ', MNB_train_time)\n",
    "me.print_scores(dp, MNB_test_acc, MNB_test_prec, MNB_test_rec)"
   ]
  },
  {
   "cell_type": "code",
   "execution_count": null,
   "metadata": {
    "collapsed": false
   },
   "outputs": [],
   "source": [
    "# Bernoulli Naive Bayes\n",
    "BNB = BernoulliNB()\n",
    "BNB_train_acc, BNB_train_time = me.train(BNB, y_train, X_train)\n",
    "BNB_test_acc, BNB_test_prec, BNB_test_rec, BNB_test_time = me.test(BNB, y_test, X_test)\n",
    "print('Time: ' + str(BNB_train_time))\n",
    "me.print_scores(dp, BNB_test_acc, BNB_test_prec, BNB_test_rec)"
   ]
  },
  {
   "cell_type": "code",
   "execution_count": null,
   "metadata": {
    "collapsed": false
   },
   "outputs": [],
   "source": [
    "# LinearSVC (liblinear SVM implementation, one-v-all)\n",
    "SVMlin = LinearSVC()\n",
    "SVMlin_train_acc, SVMlin_train_time = me.train(SVMlin, y_train, X_train)\n",
    "SVMlin_test_acc, SVMlin_test_prec, SVMlin_test_rec, SVMlin_test_time = me.test(SVMlin, y_test, X_test)\n",
    "print('Time: ' + str(SVMlin_train_time))\n",
    "me.print_scores(dp, SVMlin_test_acc, SVMlin_test_prec, SVMlin_test_rec)\n",
    "hp_dists = SVMlin.decision_function(X_train)"
   ]
  },
  {
   "cell_type": "code",
   "execution_count": null,
   "metadata": {
    "collapsed": false
   },
   "outputs": [],
   "source": [
    "# LinearSVC, class-weighted\n",
    "SVMlincw = LinearSVC(class_weight='balanced')\n",
    "SVMlincw_train_acc, SVMlincw_train_time = me.train(SVMlincw, y_train, X_train)\n",
    "SVMlincw_test_acc, SVMlincw_test_prec, SVMlincw_test_rec, SVMlincw_test_time = me.test(SVMlincw, y_test, X_test)\n",
    "print('Time: ' + str(SVMlincw_train_time))\n",
    "me.print_scores(dp, SVMlincw_test_acc, SVMlincw_test_prec, SVMlincw_test_rec)"
   ]
  }
 ],
 "metadata": {
  "anaconda-cloud": {},
  "kernelspec": {
   "display_name": "Python [conda root]",
   "language": "python",
   "name": "conda-root-py"
  },
  "language_info": {
   "codemirror_mode": {
    "name": "ipython",
    "version": 3
   },
   "file_extension": ".py",
   "mimetype": "text/x-python",
   "name": "python",
   "nbconvert_exporter": "python",
   "pygments_lexer": "ipython3",
   "version": "3.5.2"
  }
 },
 "nbformat": 4,
 "nbformat_minor": 1
}
